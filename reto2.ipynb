{
 "cells": [
  {
   "cell_type": "markdown",
   "metadata": {},
   "source": [
    "# Reto 2\n",
    "Diego Su\n",
    "\n",
    "Vanesa Mendez Palacios\n",
    "\n",
    "Estefania Perez Yeo\n",
    "\n",
    "Isai Abrosio\n",
    "\n",
    "Francisco Javier Sanchez Panduro"
   ]
  },
  {
   "cell_type": "markdown",
   "metadata": {},
   "source": []
  }
 ],
 "metadata": {
  "language_info": {
   "name": "python"
  }
 },
 "nbformat": 4,
 "nbformat_minor": 2
}
